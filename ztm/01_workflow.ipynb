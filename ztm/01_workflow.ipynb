{
  "nbformat": 4,
  "nbformat_minor": 0,
  "metadata": {
    "colab": {
      "provenance": [],
      "authorship_tag": "ABX9TyNJQT7zOi3C8FpvcI82AKsr",
      "include_colab_link": true
    },
    "kernelspec": {
      "name": "python3",
      "display_name": "Python 3"
    },
    "language_info": {
      "name": "python"
    }
  },
  "cells": [
    {
      "cell_type": "markdown",
      "metadata": {
        "id": "view-in-github",
        "colab_type": "text"
      },
      "source": [
        "<a href=\"https://colab.research.google.com/github/wkabbani/pytorch-playground/blob/main/01_workflow.ipynb\" target=\"_parent\"><img src=\"https://colab.research.google.com/assets/colab-badge.svg\" alt=\"Open In Colab\"/></a>"
      ]
    },
    {
      "cell_type": "markdown",
      "source": [
        "# 01. Workflow"
      ],
      "metadata": {
        "id": "eES7C6ExG-wr"
      }
    },
    {
      "cell_type": "code",
      "execution_count": 1,
      "metadata": {
        "colab": {
          "base_uri": "https://localhost:8080/",
          "height": 35
        },
        "id": "UaAeJY64Gu9O",
        "outputId": "e351e37a-dd72-4a86-bd3f-ac952a6746f7"
      },
      "outputs": [
        {
          "output_type": "execute_result",
          "data": {
            "text/plain": [
              "'1.13.0+cu116'"
            ],
            "application/vnd.google.colaboratory.intrinsic+json": {
              "type": "string"
            }
          },
          "metadata": {},
          "execution_count": 1
        }
      ],
      "source": [
        "import torch\n",
        "import torch.nn\n",
        "import matplotlib.pyplot as plt\n",
        "\n",
        "torch.__version__"
      ]
    },
    {
      "cell_type": "markdown",
      "source": [
        "## 01.01. Data"
      ],
      "metadata": {
        "id": "bBPqPr7CH5B5"
      }
    },
    {
      "cell_type": "code",
      "source": [
        "# create some dummy data\n",
        "weight = 0.7\n",
        "bias = 0.3\n",
        "\n",
        "X = torch.arange(start=0, end=1, step=0.02).unsqueeze(dim=1)\n",
        "y = weight * X + bias\n",
        "\n",
        "X.ndim, X.shape, y.ndim, y.shape"
      ],
      "metadata": {
        "colab": {
          "base_uri": "https://localhost:8080/"
        },
        "id": "NlxrhfmZHOr6",
        "outputId": "396185af-8c61-4948-be84-11679de9c7e2"
      },
      "execution_count": 2,
      "outputs": [
        {
          "output_type": "execute_result",
          "data": {
            "text/plain": [
              "(2, torch.Size([50, 1]), 2, torch.Size([50, 1]))"
            ]
          },
          "metadata": {},
          "execution_count": 2
        }
      ]
    },
    {
      "cell_type": "code",
      "source": [
        "X[:5,:], y[:5,:]"
      ],
      "metadata": {
        "colab": {
          "base_uri": "https://localhost:8080/"
        },
        "id": "4m8UOycaIlvD",
        "outputId": "2b98edb6-a5be-4e1e-f977-143c8461b181"
      },
      "execution_count": 3,
      "outputs": [
        {
          "output_type": "execute_result",
          "data": {
            "text/plain": [
              "(tensor([[0.0000],\n",
              "         [0.0200],\n",
              "         [0.0400],\n",
              "         [0.0600],\n",
              "         [0.0800]]), tensor([[0.3000],\n",
              "         [0.3140],\n",
              "         [0.3280],\n",
              "         [0.3420],\n",
              "         [0.3560]]))"
            ]
          },
          "metadata": {},
          "execution_count": 3
        }
      ]
    },
    {
      "cell_type": "code",
      "source": [
        "# split train/test\n",
        "split = int(0.8 * len(X))\n",
        "\n",
        "train_X, test_X = X[:split], X[split:]\n",
        "train_y, test_y = y[:split], y[split:]\n",
        "\n",
        "len(train_X), len(train_y), len(test_X), len(test_y)"
      ],
      "metadata": {
        "colab": {
          "base_uri": "https://localhost:8080/"
        },
        "id": "5jNF-B_-I9Id",
        "outputId": "d291f7c9-adaa-4622-fcdf-09e7dde21c0a"
      },
      "execution_count": 4,
      "outputs": [
        {
          "output_type": "execute_result",
          "data": {
            "text/plain": [
              "(40, 40, 10, 10)"
            ]
          },
          "metadata": {},
          "execution_count": 4
        }
      ]
    },
    {
      "cell_type": "code",
      "source": [
        "def plot_data(\n",
        "    train_data, \n",
        "    train_labels, \n",
        "    test_data, \n",
        "    test_labels, \n",
        "    predictions=None\n",
        "  ):\n",
        "\n",
        "  plt.figure(figsize=(10,7))\n",
        "\n",
        "  plt.scatter(train_data, train_labels, c=\"b\", s=4, label=\"Training Data\")\n",
        "\n",
        "  plt.scatter(test_data, test_labels, c=\"g\", s=4, label=\"Test Data\")\n",
        "\n",
        "  if predictions is not None:\n",
        "    plt.scatter(test_data, predictions, c=\"r\", s=4, label=\"Predictions\")\n",
        "\n",
        "  plt.legend(prop={\"size\": 14})"
      ],
      "metadata": {
        "id": "KGVdRbSGJ7pQ"
      },
      "execution_count": 5,
      "outputs": []
    },
    {
      "cell_type": "code",
      "source": [
        "plot_data(train_X, train_y, test_X, test_y)"
      ],
      "metadata": {
        "colab": {
          "base_uri": "https://localhost:8080/",
          "height": 428
        },
        "id": "zIhFoq75LjNT",
        "outputId": "bb48f2ee-60bb-4f8f-886b-a6d2dce9aed6"
      },
      "execution_count": 6,
      "outputs": [
        {
          "output_type": "display_data",
          "data": {
            "text/plain": [
              "<Figure size 720x504 with 1 Axes>"
            ],
            "image/png": "[encoded data removed]"
          },
          "metadata": {
            "needs_background": "light"
          }
        }
      ]
    },
    {
      "cell_type": "markdown",
      "source": [
        "## 01.02. Model"
      ],
      "metadata": {
        "id": "AV4BxYT_PTL5"
      }
    },
    {
      "cell_type": "code",
      "source": [
        "class LinearRegressionModel(torch.nn.Module):\n",
        "  def __init__(self):\n",
        "    super().__init__()\n",
        "    self.weight = torch.nn.Parameter(data=torch.randn(1, dtype=torch.float), requires_grad=True)\n",
        "    self.bias = torch.nn.Parameter(data=torch.randn(1, dtype=torch.float), requires_grad=True)\n",
        "\n",
        "  def forward(self, x: torch.Tensor) -> torch.Tensor:\n",
        "    return self.weight * x + self.bias"
      ],
      "metadata": {
        "id": "vS2sb9ZcMu31"
      },
      "execution_count": 7,
      "outputs": []
    },
    {
      "cell_type": "code",
      "source": [
        "torch.manual_seed(42)\n",
        "\n",
        "linear = LinearRegressionModel()\n",
        "\n",
        "list(linear.parameters())"
      ],
      "metadata": {
        "colab": {
          "base_uri": "https://localhost:8080/"
        },
        "id": "4QyGa2FEQgxt",
        "outputId": "5d1b504e-e501-4cab-b77d-b3e3d7ecb856"
      },
      "execution_count": 8,
      "outputs": [
        {
          "output_type": "execute_result",
          "data": {
            "text/plain": [
              "[Parameter containing:\n",
              " tensor([0.3367], requires_grad=True), Parameter containing:\n",
              " tensor([0.1288], requires_grad=True)]"
            ]
          },
          "metadata": {},
          "execution_count": 8
        }
      ]
    },
    {
      "cell_type": "code",
      "source": [
        "linear.state_dict()"
      ],
      "metadata": {
        "colab": {
          "base_uri": "https://localhost:8080/"
        },
        "id": "bofCeh2xQ7gX",
        "outputId": "5cc7d7b2-77f5-4068-ddc2-c93212682a61"
      },
      "execution_count": 9,
      "outputs": [
        {
          "output_type": "execute_result",
          "data": {
            "text/plain": [
              "OrderedDict([('weight', tensor([0.3367])), ('bias', tensor([0.1288]))])"
            ]
          },
          "metadata": {},
          "execution_count": 9
        }
      ]
    },
    {
      "cell_type": "code",
      "source": [
        "# a newer version of no_grad()\n",
        "with torch.inference_mode():\n",
        "  y_preds = linear(test_X)\n",
        "\n",
        "y_preds"
      ],
      "metadata": {
        "colab": {
          "base_uri": "https://localhost:8080/"
        },
        "id": "-JxfOQ7NREOp",
        "outputId": "959fbddd-b61d-4a52-8a96-1c4c1799d19c"
      },
      "execution_count": 10,
      "outputs": [
        {
          "output_type": "execute_result",
          "data": {
            "text/plain": [
              "tensor([[0.3982],\n",
              "        [0.4049],\n",
              "        [0.4116],\n",
              "        [0.4184],\n",
              "        [0.4251],\n",
              "        [0.4318],\n",
              "        [0.4386],\n",
              "        [0.4453],\n",
              "        [0.4520],\n",
              "        [0.4588]])"
            ]
          },
          "metadata": {},
          "execution_count": 10
        }
      ]
    },
    {
      "cell_type": "code",
      "source": [
        "plot_data(train_X, train_y, test_X, test_y, y_preds)"
      ],
      "metadata": {
        "colab": {
          "base_uri": "https://localhost:8080/",
          "height": 428
        },
        "id": "Q7F_covCRwDx",
        "outputId": "72704c09-40dc-42ea-e38a-851fda1eee68"
      },
      "execution_count": 11,
      "outputs": [
        {
          "output_type": "display_data",
          "data": {
            "text/plain": [
              "<Figure size 720x504 with 1 Axes>"
            ],
            "image/png": "[encoded data removed]"
          },
          "metadata": {
            "needs_background": "light"
          }
        }
      ]
    },
    {
      "cell_type": "markdown",
      "source": [
        "## 01.03. Training"
      ],
      "metadata": {
        "id": "hOQZsHDOTDvE"
      }
    },
    {
      "cell_type": "code",
      "source": [
        "loss_fn = torch.nn.L1Loss()\n",
        "\n",
        "optimizer = torch.optim.SGD(linear.parameters(), lr=0.01)"
      ],
      "metadata": {
        "id": "TFeogSzHSiU2"
      },
      "execution_count": 12,
      "outputs": []
    },
    {
      "cell_type": "code",
      "source": [
        "# training loop\n",
        "torch.manual_seed(22)\n",
        "n_epochs = 100\n",
        "\n",
        "train_losses = []\n",
        "test_losses = []\n",
        "epoch_count = []\n",
        "\n",
        "for epoch in range(n_epochs):\n",
        "\n",
        "  # set the model in train mode\n",
        "  linear.train()\n",
        "\n",
        "  # forward pass\n",
        "  y_preds = linear(train_X)\n",
        "\n",
        "  # calculate loss\n",
        "  train_loss = loss_fn(y_preds, train_y)\n",
        "\n",
        "  # reset grads\n",
        "  optimizer.zero_grad()\n",
        "\n",
        "  # calculate new grads\n",
        "  train_loss.backward()\n",
        "\n",
        "  # update parameters\n",
        "  optimizer.step()\n",
        "\n",
        "  # run on the testset\n",
        "  linear.eval()\n",
        "\n",
        "  with torch.inference_mode():\n",
        "\n",
        "    test_preds = linear(test_X)\n",
        "    test_loss = loss_fn(test_preds, test_y.type(torch.float32))\n",
        "\n",
        "    if epoch % 10 == 0:\n",
        "      epoch_count.append(epoch)\n",
        "      train_losses.append(train_loss.detach().numpy())\n",
        "      test_losses.append(test_loss.detach().numpy())\n",
        "      print(f'Epoch: {epoch} - Train Loss: {train_loss:0.2f} - Test Loss: {test_loss:0.2f}')"
      ],
      "metadata": {
        "id": "mqvKxCTVVJzx",
        "colab": {
          "base_uri": "https://localhost:8080/"
        },
        "outputId": "16ce036f-e639-4c85-9329-4b8cde30556c"
      },
      "execution_count": 13,
      "outputs": [
        {
          "output_type": "stream",
          "name": "stdout",
          "text": [
            "Epoch: 0 - Train Loss: 0.31 - Test Loss: 0.48\n",
            "Epoch: 10 - Train Loss: 0.20 - Test Loss: 0.35\n",
            "Epoch: 20 - Train Loss: 0.09 - Test Loss: 0.22\n",
            "Epoch: 30 - Train Loss: 0.05 - Test Loss: 0.14\n",
            "Epoch: 40 - Train Loss: 0.05 - Test Loss: 0.11\n",
            "Epoch: 50 - Train Loss: 0.04 - Test Loss: 0.10\n",
            "Epoch: 60 - Train Loss: 0.04 - Test Loss: 0.09\n",
            "Epoch: 70 - Train Loss: 0.03 - Test Loss: 0.08\n",
            "Epoch: 80 - Train Loss: 0.03 - Test Loss: 0.07\n",
            "Epoch: 90 - Train Loss: 0.03 - Test Loss: 0.06\n"
          ]
        }
      ]
    },
    {
      "cell_type": "code",
      "source": [
        "# plot the loss train/test\n",
        "plt.plot(epoch_count, train_losses, label=\"Train Loss\")\n",
        "plt.plot(epoch_count, test_losses, label=\"Test Loss\")\n",
        "plt.title(\"Training and Test Loss Curves\")\n",
        "plt.xlabel(\"epoch\")\n",
        "plt.ylabel(\"loss\")\n",
        "plt.legend()"
      ],
      "metadata": {
        "colab": {
          "base_uri": "https://localhost:8080/",
          "height": 312
        },
        "id": "XwbtF-q2vlo3",
        "outputId": "6f4eedac-54d1-4ec5-e7b5-9430df4819a7"
      },
      "execution_count": 14,
      "outputs": [
        {
          "output_type": "execute_result",
          "data": {
            "text/plain": [
              "<matplotlib.legend.Legend at 0x7f098150e5e0>"
            ]
          },
          "metadata": {},
          "execution_count": 14
        },
        {
          "output_type": "display_data",
          "data": {
            "text/plain": [
              "<Figure size 432x288 with 1 Axes>"
            ],
            "image/png": "[encoded data removed]"
          },
          "metadata": {
            "needs_background": "light"
          }
        }
      ]
    },
    {
      "cell_type": "code",
      "source": [
        "list(linear.parameters())"
      ],
      "metadata": {
        "colab": {
          "base_uri": "https://localhost:8080/"
        },
        "id": "hoo0jQEFwaU2",
        "outputId": "2eb77b42-b3a0-4db2-a048-5af752cfc29a"
      },
      "execution_count": 15,
      "outputs": [
        {
          "output_type": "execute_result",
          "data": {
            "text/plain": [
              "[Parameter containing:\n",
              " tensor([0.5784], requires_grad=True), Parameter containing:\n",
              " tensor([0.3513], requires_grad=True)]"
            ]
          },
          "metadata": {},
          "execution_count": 15
        }
      ]
    },
    {
      "cell_type": "code",
      "source": [
        "linear.state_dict()"
      ],
      "metadata": {
        "colab": {
          "base_uri": "https://localhost:8080/"
        },
        "id": "P2k_ec10xTZP",
        "outputId": "761f9d76-c514-4544-9410-3fc49569f32b"
      },
      "execution_count": 16,
      "outputs": [
        {
          "output_type": "execute_result",
          "data": {
            "text/plain": [
              "OrderedDict([('weight', tensor([0.5784])), ('bias', tensor([0.3513]))])"
            ]
          },
          "metadata": {},
          "execution_count": 16
        }
      ]
    },
    {
      "cell_type": "code",
      "source": [
        "linear.eval()\n",
        "with torch.inference_mode():\n",
        "  y_preds = linear(test_X)\n",
        "\n",
        "y_preds"
      ],
      "metadata": {
        "colab": {
          "base_uri": "https://localhost:8080/"
        },
        "id": "SIB3llsaxXed",
        "outputId": "19aa10fd-cf3a-4606-a2e2-7ff2dfad85c3"
      },
      "execution_count": 19,
      "outputs": [
        {
          "output_type": "execute_result",
          "data": {
            "text/plain": [
              "tensor([[0.8141],\n",
              "        [0.8256],\n",
              "        [0.8372],\n",
              "        [0.8488],\n",
              "        [0.8603],\n",
              "        [0.8719],\n",
              "        [0.8835],\n",
              "        [0.8950],\n",
              "        [0.9066],\n",
              "        [0.9182]])"
            ]
          },
          "metadata": {},
          "execution_count": 19
        }
      ]
    },
    {
      "cell_type": "code",
      "source": [
        "plot_data(train_X, train_y, test_X, test_y, y_preds)"
      ],
      "metadata": {
        "colab": {
          "base_uri": "https://localhost:8080/",
          "height": 428
        },
        "id": "PNiJS8KJx28Y",
        "outputId": "8f3a31a3-11aa-423b-bc7c-db688bb040ab"
      },
      "execution_count": 20,
      "outputs": [
        {
          "output_type": "display_data",
          "data": {
            "text/plain": [
              "<Figure size 720x504 with 1 Axes>"
            ],
            "image/png": "[encoded data removed]"
          },
          "metadata": {
            "needs_background": "light"
          }
        }
      ]
    },
    {
      "cell_type": "markdown",
      "source": [
        "## 01.04. Saving and Loading"
      ],
      "metadata": {
        "id": "Lc8eCinsznbs"
      }
    },
    {
      "cell_type": "code",
      "source": [
        "from pathlib import Path\n",
        "model_sd_path = Path('linear_sd_v1.pth')\n",
        "model_sd_path"
      ],
      "metadata": {
        "colab": {
          "base_uri": "https://localhost:8080/"
        },
        "id": "xDuZAkisx8WO",
        "outputId": "473bf010-5534-48ff-fb75-1f0e02991872"
      },
      "execution_count": 38,
      "outputs": [
        {
          "output_type": "execute_result",
          "data": {
            "text/plain": [
              "PosixPath('linear_sd_v1.pth')"
            ]
          },
          "metadata": {},
          "execution_count": 38
        }
      ]
    },
    {
      "cell_type": "code",
      "source": [
        "# save model's state dictionary\n",
        "torch.save(linear.state_dict(), f=model_sd_path)"
      ],
      "metadata": {
        "id": "kmkJlnNc0PZo"
      },
      "execution_count": 39,
      "outputs": []
    },
    {
      "cell_type": "markdown",
      "source": [
        "Why call `torch.load()` inside `torch.nn.Module.load_state_dict()`?\n",
        "\n",
        "Because we only saved the model's `state_dict()` which is a dictionary of learned parameters and not the entire model, we first have to load the `state_dict()` with `torch.load()` and then pass that `state_dict()` to a new instance of our model (which is a subclass of nn.Module)."
      ],
      "metadata": {
        "id": "C5pm1c8i1qVQ"
      }
    },
    {
      "cell_type": "code",
      "source": [
        "loaded_linear_v1 = LinearRegressionModel()\n",
        "loaded_linear_v1.load_state_dict(torch.load(model_sd_path))"
      ],
      "metadata": {
        "colab": {
          "base_uri": "https://localhost:8080/"
        },
        "id": "WCMI3abf0bzL",
        "outputId": "9aac9165-c3c9-48ea-b4ed-a1d9fd16cdb2"
      },
      "execution_count": 42,
      "outputs": [
        {
          "output_type": "execute_result",
          "data": {
            "text/plain": [
              "<All keys matched successfully>"
            ]
          },
          "metadata": {},
          "execution_count": 42
        }
      ]
    },
    {
      "cell_type": "code",
      "source": [
        "loaded_linear_v1.eval()\n",
        "\n",
        "with torch.inference_mode():\n",
        "  y_preds = loaded_linear_v1(test_X)\n",
        "\n",
        "y_preds"
      ],
      "metadata": {
        "colab": {
          "base_uri": "https://localhost:8080/"
        },
        "id": "BlMLQyhv2RiV",
        "outputId": "d963356e-2a9c-4a78-dd6e-483fc9540a55"
      },
      "execution_count": 43,
      "outputs": [
        {
          "output_type": "execute_result",
          "data": {
            "text/plain": [
              "tensor([[0.8141],\n",
              "        [0.8256],\n",
              "        [0.8372],\n",
              "        [0.8488],\n",
              "        [0.8603],\n",
              "        [0.8719],\n",
              "        [0.8835],\n",
              "        [0.8950],\n",
              "        [0.9066],\n",
              "        [0.9182]])"
            ]
          },
          "metadata": {},
          "execution_count": 43
        }
      ]
    },
    {
      "cell_type": "code",
      "source": [
        "plot_data(train_X, train_y, test_X, test_y, y_preds)"
      ],
      "metadata": {
        "colab": {
          "base_uri": "https://localhost:8080/",
          "height": 428
        },
        "id": "LX9XrqeA2yxW",
        "outputId": "38280616-7014-46df-9437-66010cd555d7"
      },
      "execution_count": 44,
      "outputs": [
        {
          "output_type": "display_data",
          "data": {
            "text/plain": [
              "<Figure size 720x504 with 1 Axes>"
            ],
            "image/png": "[encoded data removed]"
          },
          "metadata": {
            "needs_background": "light"
          }
        }
      ]
    }
  ]
}